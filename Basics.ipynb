{
 "cells": [
  {
   "cell_type": "code",
   "execution_count": 1,
   "metadata": {
    "collapsed": false
   },
   "outputs": [
    {
     "data": {
      "text/plain": [
       "'Connected: None@chinook.db'"
      ]
     },
     "execution_count": 1,
     "metadata": {},
     "output_type": "execute_result"
    }
   ],
   "source": [
    "%%capture\n",
    "%load_ext sql\n",
    "%sql sqlite:///chinook.db"
   ]
  },
  {
   "cell_type": "markdown",
   "metadata": {},
   "source": [
    "# Overview of the Data\n"
   ]
  },
  {
   "cell_type": "code",
   "execution_count": 2,
   "metadata": {
    "collapsed": false
   },
   "outputs": [
    {
     "name": "stdout",
     "output_type": "stream",
     "text": [
      "Done.\n"
     ]
    },
    {
     "data": {
      "text/html": [
       "<table>\n",
       "    <tr>\n",
       "        <th>name</th>\n",
       "        <th>type</th>\n",
       "    </tr>\n",
       "    <tr>\n",
       "        <td>album</td>\n",
       "        <td>table</td>\n",
       "    </tr>\n",
       "    <tr>\n",
       "        <td>artist</td>\n",
       "        <td>table</td>\n",
       "    </tr>\n",
       "    <tr>\n",
       "        <td>customer</td>\n",
       "        <td>table</td>\n",
       "    </tr>\n",
       "    <tr>\n",
       "        <td>employee</td>\n",
       "        <td>table</td>\n",
       "    </tr>\n",
       "    <tr>\n",
       "        <td>genre</td>\n",
       "        <td>table</td>\n",
       "    </tr>\n",
       "    <tr>\n",
       "        <td>invoice</td>\n",
       "        <td>table</td>\n",
       "    </tr>\n",
       "    <tr>\n",
       "        <td>invoice_line</td>\n",
       "        <td>table</td>\n",
       "    </tr>\n",
       "    <tr>\n",
       "        <td>media_type</td>\n",
       "        <td>table</td>\n",
       "    </tr>\n",
       "    <tr>\n",
       "        <td>playlist</td>\n",
       "        <td>table</td>\n",
       "    </tr>\n",
       "    <tr>\n",
       "        <td>playlist_track</td>\n",
       "        <td>table</td>\n",
       "    </tr>\n",
       "    <tr>\n",
       "        <td>track</td>\n",
       "        <td>table</td>\n",
       "    </tr>\n",
       "</table>"
      ],
      "text/plain": [
       "[('album', 'table'),\n",
       " ('artist', 'table'),\n",
       " ('customer', 'table'),\n",
       " ('employee', 'table'),\n",
       " ('genre', 'table'),\n",
       " ('invoice', 'table'),\n",
       " ('invoice_line', 'table'),\n",
       " ('media_type', 'table'),\n",
       " ('playlist', 'table'),\n",
       " ('playlist_track', 'table'),\n",
       " ('track', 'table')]"
      ]
     },
     "execution_count": 2,
     "metadata": {},
     "output_type": "execute_result"
    }
   ],
   "source": [
    "%%sql\n",
    "SELECT\n",
    "    name,\n",
    "    type\n",
    "FROM sqlite_master\n",
    "WHERE type IN (\"table\",\"view\");"
   ]
  },
  {
   "cell_type": "markdown",
   "metadata": {},
   "source": [
    "# Selecting Albums to Purchase\n"
   ]
  },
  {
   "cell_type": "code",
   "execution_count": 3,
   "metadata": {
    "collapsed": false,
    "scrolled": true
   },
   "outputs": [
    {
     "name": "stdout",
     "output_type": "stream",
     "text": [
      "Done.\n"
     ]
    },
    {
     "data": {
      "text/html": [
       "<table>\n",
       "    <tr>\n",
       "        <th>genre</th>\n",
       "        <th>tracks_sold</th>\n",
       "        <th>percentage_sold</th>\n",
       "    </tr>\n",
       "    <tr>\n",
       "        <td>Rock</td>\n",
       "        <td>561</td>\n",
       "        <td>53.38</td>\n",
       "    </tr>\n",
       "    <tr>\n",
       "        <td>Alternative &amp; Punk</td>\n",
       "        <td>130</td>\n",
       "        <td>12.37</td>\n",
       "    </tr>\n",
       "    <tr>\n",
       "        <td>Metal</td>\n",
       "        <td>124</td>\n",
       "        <td>11.8</td>\n",
       "    </tr>\n",
       "    <tr>\n",
       "        <td>R&amp;B/Soul</td>\n",
       "        <td>53</td>\n",
       "        <td>5.04</td>\n",
       "    </tr>\n",
       "    <tr>\n",
       "        <td>Blues</td>\n",
       "        <td>36</td>\n",
       "        <td>3.43</td>\n",
       "    </tr>\n",
       "    <tr>\n",
       "        <td>Alternative</td>\n",
       "        <td>35</td>\n",
       "        <td>3.33</td>\n",
       "    </tr>\n",
       "    <tr>\n",
       "        <td>Latin</td>\n",
       "        <td>22</td>\n",
       "        <td>2.09</td>\n",
       "    </tr>\n",
       "    <tr>\n",
       "        <td>Pop</td>\n",
       "        <td>22</td>\n",
       "        <td>2.09</td>\n",
       "    </tr>\n",
       "    <tr>\n",
       "        <td>Hip Hop/Rap</td>\n",
       "        <td>20</td>\n",
       "        <td>1.9</td>\n",
       "    </tr>\n",
       "    <tr>\n",
       "        <td>Jazz</td>\n",
       "        <td>14</td>\n",
       "        <td>1.33</td>\n",
       "    </tr>\n",
       "</table>"
      ],
      "text/plain": [
       "[('Rock', 561, 53.38),\n",
       " ('Alternative & Punk', 130, 12.37),\n",
       " ('Metal', 124, 11.8),\n",
       " ('R&B/Soul', 53, 5.04),\n",
       " ('Blues', 36, 3.43),\n",
       " ('Alternative', 35, 3.33),\n",
       " ('Latin', 22, 2.09),\n",
       " ('Pop', 22, 2.09),\n",
       " ('Hip Hop/Rap', 20, 1.9),\n",
       " ('Jazz', 14, 1.33)]"
      ]
     },
     "execution_count": 3,
     "metadata": {},
     "output_type": "execute_result"
    }
   ],
   "source": [
    "%%sql\n",
    "WITH track_genres AS\n",
    "    (\n",
    "     SELECT\n",
    "        t.track_id,\n",
    "        g.name genre_name\n",
    "     FROM track t\n",
    "     INNER JOIN genre g ON g.genre_id == t.genre_id\n",
    "    ),\n",
    "    us_customers AS\n",
    "    (\n",
    "     SELECT\n",
    "        il.invoice_id,\n",
    "        il.track_id\n",
    "     FROM invoice i\n",
    "     INNER JOIN invoice_line il ON i.invoice_id == il.invoice_id\n",
    "     WHERE i.billing_country == 'USA'\n",
    "    )\n",
    "\n",
    "SELECT\n",
    "    t.genre_name genre,\n",
    "    COUNT(*) tracks_sold,\n",
    "    ROUND(CAST(COUNT(*) AS FLOAT) / (SELECT COUNT(*) FROM us_customers) * 100, 2) percentage_sold\n",
    "FROM us_customers uc\n",
    "LEFT JOIN track_genres t ON t.track_id == uc.track_id\n",
    "GROUP BY 1\n",
    "ORDER BY 2 DESC\n",
    "LIMIT 10"
   ]
  },
  {
   "cell_type": "markdown",
   "metadata": {},
   "source": [
    "The most sold genre in the USA are ROCK which is sold almost 4 times more as Punk. The second most sold is Punk at 12 percent then Metal at 11.8 percent and then Soul at 5.04 percent.\n",
    "The record store should add Red Tone, Slim Jim Bites and Meteor and the Girls as these falls in the top sold category. Regal falls into Hip hop category which"
   ]
  },
  {
   "cell_type": "markdown",
   "metadata": {},
   "source": [
    "# Analyzing Employee Sales Performance\n"
   ]
  },
  {
   "cell_type": "code",
   "execution_count": 4,
   "metadata": {
    "collapsed": false
   },
   "outputs": [
    {
     "name": "stdout",
     "output_type": "stream",
     "text": [
      "Done.\n"
     ]
    },
    {
     "data": {
      "text/html": [
       "<table>\n",
       "    <tr>\n",
       "        <th>sales</th>\n",
       "        <th>name</th>\n",
       "        <th>Date of Joining</th>\n",
       "    </tr>\n",
       "    <tr>\n",
       "        <td>1731.5099999999998</td>\n",
       "        <td>Jane Peacock</td>\n",
       "        <td>2017-04-01 00:00:00</td>\n",
       "    </tr>\n",
       "    <tr>\n",
       "        <td>1584.0000000000002</td>\n",
       "        <td>Margaret Park</td>\n",
       "        <td>2017-05-03 00:00:00</td>\n",
       "    </tr>\n",
       "    <tr>\n",
       "        <td>1393.92</td>\n",
       "        <td>Steve Johnson</td>\n",
       "        <td>2017-10-17 00:00:00</td>\n",
       "    </tr>\n",
       "</table>"
      ],
      "text/plain": [
       "[(1731.5099999999998, 'Jane Peacock', '2017-04-01 00:00:00'),\n",
       " (1584.0000000000002, 'Margaret Park', '2017-05-03 00:00:00'),\n",
       " (1393.92, 'Steve Johnson', '2017-10-17 00:00:00')]"
      ]
     },
     "execution_count": 4,
     "metadata": {},
     "output_type": "execute_result"
    }
   ],
   "source": [
    "%%sql\n",
    "WITH purchases AS\n",
    "    (\n",
    "     SELECT\n",
    "        c.customer_id,\n",
    "        c.support_rep_id,\n",
    "        SUM(i.total) total\n",
    "     FROM customer c\n",
    "     INNER JOIN invoice i ON i.customer_id == c.customer_id\n",
    "     GROUP BY 1\n",
    "    )\n",
    "    \n",
    "SELECT\n",
    "    SUM(p.total) sales,\n",
    "    e.first_name || ' ' || e.last_name name,\n",
    "    e.hire_date 'Date of Joining'\n",
    "FROM employee e\n",
    "INNER JOIN purchases p ON e.employee_id == p.support_rep_id\n",
    "GROUP BY 2\n",
    "ORDER BY 1 DESC\n",
    "LIMIT 10"
   ]
  },
  {
   "cell_type": "markdown",
   "metadata": {},
   "source": [
    "While there is a 20% difference in sales between Jane (the top employee) and Steve (the bottom employee), the difference roughly corresponds to the differences in their hiring dates."
   ]
  },
  {
   "cell_type": "markdown",
   "metadata": {},
   "source": [
    "# Analyzing Sales by Country"
   ]
  },
  {
   "cell_type": "code",
   "execution_count": 5,
   "metadata": {
    "collapsed": false,
    "scrolled": false
   },
   "outputs": [
    {
     "name": "stdout",
     "output_type": "stream",
     "text": [
      "Done.\n"
     ]
    },
    {
     "data": {
      "text/html": [
       "<table>\n",
       "    <tr>\n",
       "        <th>country</th>\n",
       "        <th>number_of_customers</th>\n",
       "        <th>total_sales</th>\n",
       "        <th>avg_order_value</th>\n",
       "        <th>avg_sales</th>\n",
       "    </tr>\n",
       "    <tr>\n",
       "        <td>USA</td>\n",
       "        <td>13</td>\n",
       "        <td>1040.4899999999998</td>\n",
       "        <td>7.942671755725189</td>\n",
       "        <td>80.0376923076923</td>\n",
       "    </tr>\n",
       "    <tr>\n",
       "        <td>Canada</td>\n",
       "        <td>8</td>\n",
       "        <td>535.5900000000001</td>\n",
       "        <td>7.047236842105265</td>\n",
       "        <td>66.94875000000002</td>\n",
       "    </tr>\n",
       "    <tr>\n",
       "        <td>Brazil</td>\n",
       "        <td>5</td>\n",
       "        <td>427.68000000000006</td>\n",
       "        <td>7.0111475409836075</td>\n",
       "        <td>85.53600000000002</td>\n",
       "    </tr>\n",
       "    <tr>\n",
       "        <td>France</td>\n",
       "        <td>5</td>\n",
       "        <td>389.0699999999999</td>\n",
       "        <td>7.781399999999998</td>\n",
       "        <td>77.81399999999998</td>\n",
       "    </tr>\n",
       "    <tr>\n",
       "        <td>Germany</td>\n",
       "        <td>4</td>\n",
       "        <td>334.62</td>\n",
       "        <td>8.161463414634147</td>\n",
       "        <td>83.655</td>\n",
       "    </tr>\n",
       "    <tr>\n",
       "        <td>Czech Republic</td>\n",
       "        <td>2</td>\n",
       "        <td>273.24000000000007</td>\n",
       "        <td>9.108000000000002</td>\n",
       "        <td>136.62000000000003</td>\n",
       "    </tr>\n",
       "    <tr>\n",
       "        <td>United Kingdom</td>\n",
       "        <td>3</td>\n",
       "        <td>245.52</td>\n",
       "        <td>8.768571428571429</td>\n",
       "        <td>81.84</td>\n",
       "    </tr>\n",
       "    <tr>\n",
       "        <td>Portugal</td>\n",
       "        <td>2</td>\n",
       "        <td>185.13000000000002</td>\n",
       "        <td>6.383793103448276</td>\n",
       "        <td>92.56500000000001</td>\n",
       "    </tr>\n",
       "    <tr>\n",
       "        <td>India</td>\n",
       "        <td>2</td>\n",
       "        <td>183.14999999999998</td>\n",
       "        <td>8.72142857142857</td>\n",
       "        <td>91.57499999999999</td>\n",
       "    </tr>\n",
       "    <tr>\n",
       "        <td>other</td>\n",
       "        <td>15</td>\n",
       "        <td>1094.9399999999998</td>\n",
       "        <td>7.445071062271063</td>\n",
       "        <td>72.996</td>\n",
       "    </tr>\n",
       "</table>"
      ],
      "text/plain": [
       "[('USA', 13, 1040.4899999999998, 7.942671755725189, 80.0376923076923),\n",
       " ('Canada', 8, 535.5900000000001, 7.047236842105265, 66.94875000000002),\n",
       " ('Brazil', 5, 427.68000000000006, 7.0111475409836075, 85.53600000000002),\n",
       " ('France', 5, 389.0699999999999, 7.781399999999998, 77.81399999999998),\n",
       " ('Germany', 4, 334.62, 8.161463414634147, 83.655),\n",
       " ('Czech Republic', 2, 273.24000000000007, 9.108000000000002, 136.62000000000003),\n",
       " ('United Kingdom', 3, 245.52, 8.768571428571429, 81.84),\n",
       " ('Portugal', 2, 185.13000000000002, 6.383793103448276, 92.56500000000001),\n",
       " ('India', 2, 183.14999999999998, 8.72142857142857, 91.57499999999999),\n",
       " ('other', 15, 1094.9399999999998, 7.445071062271063, 72.996)]"
      ]
     },
     "execution_count": 5,
     "metadata": {},
     "output_type": "execute_result"
    }
   ],
   "source": [
    "%%sql\n",
    "WITH countries AS\n",
    "    (\n",
    "     SELECT\n",
    "        c.country country,\n",
    "        COUNT(DISTINCT(c.customer_id)) number_of_customers,\n",
    "        SUM(i.total) total_sales,\n",
    "        SUM(i.total) / COUNT(DISTINCT(c.customer_id)) AS avg_sales,\n",
    "        AVG(i.total) avg_order_value\n",
    "     FROM customer c\n",
    "     INNER JOIN invoice i ON c.customer_id == i.customer_id\n",
    "     GROUP BY 1\n",
    "     ORDER BY 3 DESC\n",
    "    ),\n",
    "    group_countries AS\n",
    "    (\n",
    "     SELECT\n",
    "        'other' country,\n",
    "        COUNT(number_of_customers) number_of_customers,\n",
    "        SUM(total_sales) total_sales,\n",
    "        SUM(total_sales) / COUNT(number_of_customers)  avg_sales,\n",
    "        AVG(avg_order_value) avg_order_value\n",
    "     FROM countries\n",
    "     WHERE number_of_customers == 1\n",
    "    ),\n",
    "    individual_countries AS \n",
    "    (\n",
    "     SELECT * FROM countries\n",
    "     WHERE number_of_customers > 1\n",
    "    ),\n",
    "    merged_data AS\n",
    "    (\n",
    "     SELECT * FROM individual_countries\n",
    "     UNION\n",
    "     SELECT * FROM group_countries\n",
    "     ORDER BY total_sales DESC\n",
    "    )\n",
    "\n",
    "SELECT\n",
    "    country,\n",
    "    number_of_customers,\n",
    "    total_sales,\n",
    "    avg_order_value,\n",
    "    avg_sales\n",
    "FROM\n",
    "    (\n",
    "     SELECT\n",
    "        m.*,\n",
    "        CASE\n",
    "            WHEN m.country == 'other' THEN 1\n",
    "            ELSE 0\n",
    "        END AS sort\n",
    "     FROM merged_data m\n",
    "     ORDER BY m.total_sales DESC\n",
    "    )\n",
    "ORDER BY sort"
   ]
  },
  {
   "cell_type": "markdown",
   "metadata": {},
   "source": [
    "\n",
    "Based on the data, there may be opportunity in the following countries:\n",
    "\n",
    "- Czech Republic\n",
    "- United Kingdom\n",
    "- India\n",
    "\n",
    "It's worth remembering this because the amount of data from each of these countries is relatively low. As such, we should be cautious about spending too much money on new marketing campaigns because the sample size isn't large enough to give us high confidence. A better approach would be to run small campaigns in these countries, collecting and analyzing the new customers to make sure that these trends hold with new customers."
   ]
  },
  {
   "cell_type": "code",
   "execution_count": 12,
   "metadata": {
    "collapsed": false
   },
   "outputs": [
    {
     "name": "stdout",
     "output_type": "stream",
     "text": [
      "Done.\n"
     ]
    },
    {
     "data": {
      "text/html": [
       "<table>\n",
       "    <tr>\n",
       "        <th>Purchase Type</th>\n",
       "        <th>number_of_invoices</th>\n",
       "        <th>percentage</th>\n",
       "    </tr>\n",
       "    <tr>\n",
       "        <td>ALBUM</td>\n",
       "        <td>114</td>\n",
       "        <td>0.18566775244299674</td>\n",
       "    </tr>\n",
       "    <tr>\n",
       "        <td>TRACK</td>\n",
       "        <td>500</td>\n",
       "        <td>0.8143322475570033</td>\n",
       "    </tr>\n",
       "</table>"
      ],
      "text/plain": [
       "[('ALBUM', 114, 0.18566775244299674), ('TRACK', 500, 0.8143322475570033)]"
      ]
     },
     "execution_count": 12,
     "metadata": {},
     "output_type": "execute_result"
    }
   ],
   "source": [
    "%%sql\n",
    "SELECT\n",
    "    Case\n",
    "        WHEN (\n",
    "              SELECT t.track_id\n",
    "              FROM invoice_line il\n",
    "              LEFT JOIN track t ON t.track_id =  il.track_id\n",
    "              WHERE il.invoice_id = i.invoice_id\n",
    "            \n",
    "              EXCEPT\n",
    "            \n",
    "              SELECT track_id\n",
    "              FROM track\n",
    "              WHERE album_id = (\n",
    "                                SELECT MIN(album_id)\n",
    "                                FROM invoice_line il\n",
    "                                LEFT JOIN track t ON il.track_id = t.track_id\n",
    "                                WHERE il.invoice_id = i.invoice_id\n",
    "                               )\n",
    "             ) IS NULL\n",
    "         AND\n",
    "             (\n",
    "              SELECT track_id\n",
    "              FROM track\n",
    "              WHERE album_id = (\n",
    "                                SELECT MIN(album_id)\n",
    "                                FROM invoice_line il\n",
    "                                LEFT JOIN track t ON il.track_id = t.track_id\n",
    "                                WHERE il.invoice_id = i.invoice_id\n",
    "                               )\n",
    "              EXCEPT\n",
    "                 \n",
    "              SELECT t.track_id\n",
    "              FROM invoice_line il\n",
    "              LEFT JOIN track t ON t.track_id =  il.track_id\n",
    "              WHERE il.invoice_id = i.invoice_id\n",
    "             ) IS NULL\n",
    "        THEN 'ALBUM'\n",
    "        ELSE 'TRACK'\n",
    "    END AS 'Purchase Type',\n",
    "    COUNT(*) number_of_invoices,\n",
    "    COUNT(*) / CAST((SELECT COUNT(*) FROM invoice) AS FLOAT) percentage \n",
    "FROM invoice i\n",
    "GROUP BY 1"
   ]
  },
  {
   "cell_type": "markdown",
   "metadata": {},
   "source": [
    "Album purchases account for 18.6% of purchases. Based on this data, I would recommend against purchasing only select tracks from albums from record companies, since there is potential to lose one fifth of revenue."
   ]
  }
 ],
 "metadata": {
  "kernelspec": {
   "display_name": "Python 3",
   "language": "python",
   "name": "python3"
  },
  "language_info": {
   "codemirror_mode": {
    "name": "ipython",
    "version": 3
   },
   "file_extension": ".py",
   "mimetype": "text/x-python",
   "name": "python",
   "nbconvert_exporter": "python",
   "pygments_lexer": "ipython3",
   "version": "3.4.3"
  }
 },
 "nbformat": 4,
 "nbformat_minor": 2
}
